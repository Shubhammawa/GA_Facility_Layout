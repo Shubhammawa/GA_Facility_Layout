{
 "cells": [
  {
   "cell_type": "code",
   "execution_count": 80,
   "metadata": {},
   "outputs": [],
   "source": [
    "import math\n",
    "import numpy as np\n",
    "import random\n",
    "import matplotlib.pyplot as plt\n",
    "import matplotlib.patches as patches\n",
    "import operator"
   ]
  },
  {
   "cell_type": "code",
   "execution_count": 81,
   "metadata": {},
   "outputs": [],
   "source": [
    "alpha = 5\n",
    "nPop = 100\n",
    "Flow = [[0, 0, 2, 1, 0, 4, 3, 0, 0, 5],\n",
    "[0, 0, 3, 0, 2, 2, 8, 0, 10, 0],\n",
    "[2, 3, 0, 0, 0, 6, 3, 0, 5, 0],\n",
    "[1, 0, 0, 0, 7, 1, 0, 5, 0, 0],\n",
    "[0, 2, 0, 7, 0, 0, 0, 0, 0, 0],\n",
    "[4, 2, 6, 1, 0, 0, 0, 0, 0, 1],\n",
    "[3, 8, 3, 0, 0, 0, 0, 1, 0, 0],\n",
    "[0, 0, 0, 5, 0, 0, 1, 0, 3, 0],\n",
    "[0, 10, 5, 0, 0, 0, 0, 3, 0, 0],\n",
    "[5, 0, 0, 0, 0, 1, 0, 0, 0, 0]]"
   ]
  },
  {
   "cell_type": "code",
   "execution_count": 82,
   "metadata": {},
   "outputs": [],
   "source": [
    "def ini_pop(populationsize):\n",
    "\tinit_pop = []\n",
    "\tArea = np.random.uniform(5, 15, len(Flow)) # section 4.2.3\n",
    "\tratioareatoflow = [Area[j] / (sum(Flow[j][i] for i in range(len(Flow[0])))) for j in range(len(Flow))]\n",
    "\tAspectRatios = np.random.uniform(0.176, 5.664, len(Flow))\n",
    "\tfor k in range(populationsize):\n",
    "\t\tintisequence = np.argsort(ratioareatoflow) + 1\n",
    "\t\tinitRCL = [intisequence[j] for j in range(alpha)]\n",
    "\t\tplaced = random.choice(initRCL)\n",
    "\t\tsequence = []\n",
    "\t\tIncresingRiFlow = []\n",
    "\t\tsequence.append(placed)\n",
    "\t\tfor j in range(len(Flow) - 1):\n",
    "\t\t\tflowfacility = np.nonzero(Flow[placed - 1])[0] + 1\n",
    "\t\t\tflowfrmfacility = list(set(flowfacility) - set(sequence))\n",
    "\t\t\tif len(flowfrmfacility) > 0:\n",
    "\t\t\t\tfor i in range(len(intisequence)):\n",
    "\t\t\t\t\tif intisequence[i] in flowfrmfacility:\n",
    "\t\t\t\t\t\tIncresingRiFlow.append(intisequence[i])\t\n",
    "\t\t\telse:\n",
    "\t\t\t\tunplaced = list(set(intisequence) - set(sequence))\n",
    "\t\t\t\tfor i in range(len(intisequence)):\n",
    "\t\t\t\t\tif intisequence[i] in unplaced:\n",
    "\t\t\t\t\t\tIncresingRiFlow.append(intisequence[i])\n",
    "\t\t\tif len(IncresingRiFlow) > alpha:\n",
    "\t\t\t\tRCL = [IncresingRiFlow[j] for j in range(alpha)]\n",
    "\t\t\telse:\n",
    "\t\t\t\tRCL = IncresingRiFlow\n",
    "\t\t\tplaced = random.choice(RCL)\n",
    "\t\t\tsequence.append(placed)\n",
    "\t\t\tIncresingRiFlow.clear()\n",
    "\t\tinit_pop.append(sequence)\n",
    "\treturn init_pop, Area, ratioareatoflow, AspectRatios"
   ]
  },
  {
   "cell_type": "code",
   "execution_count": 83,
   "metadata": {},
   "outputs": [],
   "source": [
    "def construct(pop, Area, ratioareatoflow, AspectRatios, GC = 0, QGA = 0):\n",
    "    fig1 = plt.figure()\n",
    "    ax1 = fig1.add_subplot(111, aspect='equal')\n",
    "    all_coordinates = []\n",
    "    z_values = []\n",
    "    for row in range(len(pop)):\n",
    "        total_z = 0\n",
    "        chromosome = pop[row]\n",
    "        #print(chromosome)\n",
    "        EMSlist = []\n",
    "        coordinates_set = []\n",
    "        w = math.sqrt(AspectRatios[chromosome[0] - 1] * Area[chromosome[0] - 1])\n",
    "        h = math.sqrt(Area[chromosome[0] - 1] / AspectRatios[chromosome[0] - 1])\n",
    "        coordinates_set.append([w / 2, h / 2])\n",
    "        if QGA == 0:\n",
    "            EMSlist.append([w, -math.inf, math.inf, math.inf])\n",
    "            EMSlist.append([-math.inf, -math.inf, math.inf, 0])\n",
    "            EMSlist.append([-math.inf, -math.inf, 0, math.inf])\n",
    "            EMSlist.append([-math.inf, h, math.inf, math.inf])\n",
    "        elif QGA == 1:\n",
    "            EMSlist.append([-math.inf, -math.inf, 0, 0])\n",
    "            EMSlist.append([-math.inf, 0, 0, math.inf])\n",
    "            EMSlist.append([0, -math.inf, math.inf, 0])\n",
    "            EMSlist.append([w, 0, math.inf, math.inf])\n",
    "            EMSlist.append([0, h, math.inf, math.inf])\n",
    "        for i in range(1, len(chromosome)):\n",
    "            x_mean = 0\n",
    "            y_mean = 0\n",
    "            total_flow = 0\n",
    "            for j in range(i):\n",
    "                x_mean += (Flow[chromosome[i] - 1][chromosome[j] - 1] * coordinates_set[j][0])\n",
    "                y_mean += ((Flow[chromosome[i] - 1][chromosome[j] - 1] * coordinates_set[j][1]))\n",
    "                total_flow += Flow[chromosome[i] - 1][chromosome[j] - 1]\n",
    "            if total_flow != 0:\n",
    "                x_mean /= total_flow\n",
    "                y_mean /= total_flow\n",
    "            #print(x_mean, y_mean)\n",
    "            \n",
    "            w = math.sqrt(AspectRatios[chromosome[i] - 1] * Area[chromosome[i] - 1])\n",
    "            h = math.sqrt(Area[chromosome[i] - 1] / AspectRatios[chromosome[i] - 1])\n",
    "            #print(w, h)\n",
    "            new_coordinates = []\n",
    "            \n",
    "            for EMS in EMSlist:\n",
    "                if (EMS[2] - EMS[0] < w or EMS[3] - EMS[1] < h):\n",
    "                    new_coordinates.append([-math.inf, -math.inf])\n",
    "                    continue\n",
    "                else:\n",
    "                    if (x_mean < EMS[0]):\n",
    "                        x = EMS[0] + w / 2\n",
    "                    elif (x_mean > EMS[2]):\n",
    "                        x = EMS[2] - w / 2\n",
    "                    elif (x_mean - EMS[0] >= w / 2 and EMS[2] - x_mean >= w / 2):\n",
    "                        x = x_mean\n",
    "                    elif (x_mean - EMS[0] > EMS[2] - x_mean):\n",
    "                        x = EMS[2] - w / 2\n",
    "                    else:\n",
    "                        x = EMS[0] + w / 2\n",
    "                    \n",
    "                    if (y_mean < EMS[1]):\n",
    "                        y = EMS[1] + h / 2\n",
    "                    elif (y_mean > EMS[3]):\n",
    "                        y = EMS[3] - h / 2\n",
    "                    elif (y_mean - EMS[1] >= h / 2 and EMS[3] - y_mean >= h / 2):\n",
    "                        y = y_mean\n",
    "                    elif (y_mean - EMS[1] > EMS[3] - y_mean):\n",
    "                        y = EMS[3] - h / 2\n",
    "                    else:\n",
    "                        y = EMS[1] + h / 2\n",
    "                    \n",
    "                    new_coordinates.append([x, y])\n",
    "            #print(new_coordinates)\n",
    "            #break\n",
    "            min_z = math.inf\n",
    "            min_coord = new_coordinates[0]\n",
    "            for new_coordinate in new_coordinates:\n",
    "                z = 0\n",
    "                for j in range(i):\n",
    "                    distance = math.sqrt(((coordinates_set[j][0] - new_coordinate[0]) ** 2) + ((coordinates_set[j][1] - new_coordinate[1]) ** 2))\n",
    "                    z += distance * Flow[chromosome[j] - 1][chromosome[i] - 1]\n",
    "                if GC != 0:\n",
    "                    z1 = 0\n",
    "                    distanceToOrigin = math.sqrt(new_coordinate[0] ** 2 + new_coordinate[1] ** 2)\n",
    "                    for j in range(i):\n",
    "                        z1 += Flow[chromosome[j] - 1][chromosome[i] - 1]\n",
    "                    z1 *= distanceToOrigin\n",
    "                    z1 = z1 * (len(chromosome) - i - 1) / (len(chromosome) - 1)\n",
    "                    z *= (1 - (len(chromosome) - i - 1) / (len(chromosome) - 1))\n",
    "                    z += z1\n",
    "\n",
    "                if z < min_z:\n",
    "                    min_z = z\n",
    "                    min_coord = new_coordinate\n",
    "            total_z += min_z\n",
    "            #print(min_z, min_coord, distance)\n",
    "            coordinates_set.append(min_coord)\n",
    "            toAddEMSlist = []\n",
    "            toRemoveEMSlist = []\n",
    "            for k in range(len(EMSlist)):\n",
    "                EMS = EMSlist[k]\n",
    "                if min_coord[0] + w / 2 < EMS[0] or min_coord[0] - w / 2 > EMS[2] or min_coord[1] + h / 2 < EMS[1] or min_coord[1] - h / 2 > EMS[3]:\n",
    "                    continue\n",
    "                else:\n",
    "                    if (min_coord[0] + w / 2 < EMS[2]):\n",
    "                        toAddEMSlist.append([min_coord[0] + w / 2, EMS[1], EMS[2], EMS[3]])\n",
    "                    if (min_coord[0] - w / 2 > EMS[0]):\n",
    "                        toAddEMSlist.append([EMS[0], EMS[1], min_coord[0] - w / 2, EMS[3]])\n",
    "                    if (min_coord[1] - h / 2 > EMS[1]):\n",
    "                        toAddEMSlist.append([EMS[0], EMS[1], EMS[2], min_coord[1] - h / 2])\n",
    "                    if (min_coord[1] + h / 2 < EMS[3]):\n",
    "                        toAddEMSlist.append([EMS[0], min_coord[1] + h / 2, EMS[2], EMS[3]])\n",
    "                    toRemoveEMSlist.append(k)\n",
    "            \n",
    "            i = 0\n",
    "            for remove in toRemoveEMSlist:\n",
    "                del EMSlist[remove - i]\n",
    "                i += 1\n",
    "            for newEMS in toAddEMSlist:\n",
    "                EMSlist.append(newEMS)\n",
    "            #break\n",
    "        z_values.append(total_z)\n",
    "        all_coordinates.append(coordinates_set)\n",
    "        \n",
    "        #break\n",
    "    #print(z_values)\n",
    "    minpos = z_values.index(min(z_values))\n",
    "    #print(all_coordinates[minpos])\n",
    "    chromosome = pop[minpos]\n",
    "    minx = math.inf\n",
    "    miny = math.inf\n",
    "    maxx = -math.inf\n",
    "    maxy = -math.inf\n",
    "    for i in range(len(chromosome)):\n",
    "        w = math.sqrt(AspectRatios[chromosome[i] - 1] * Area[chromosome[i] - 1])\n",
    "        h = math.sqrt(Area[chromosome[i] - 1] / AspectRatios[chromosome[i] - 1])\n",
    "        x = all_coordinates[minpos][i][0]\n",
    "        y = all_coordinates[minpos][i][1]\n",
    "        ax1.add_patch(patches.Rectangle((x - w / 2, y - h / 2), w, h, facecolor = \"gray\", edgecolor = \"black\"))\n",
    "        ax1.annotate(str(chromosome[i]), xy = (x, y), fontsize = 10)\n",
    "        if minx > x:\n",
    "            minx = x\n",
    "        if maxx < x:\n",
    "            maxx = x\n",
    "        if miny > y:\n",
    "            miny = y\n",
    "        if maxy < y:\n",
    "            maxy = y\n",
    "    plt.ylim(miny - 5, maxy + 5)\n",
    "    plt.xlim(minx - 5, maxx + 5)\n",
    "    plt.show()\n",
    "    \n",
    "    return z_values"
   ]
  },
  {
   "cell_type": "code",
   "execution_count": 84,
   "metadata": {},
   "outputs": [
    {
     "data": {
      "image/png": "[encoded data removed]",
      "text/plain": [
       "<Figure size 432x288 with 1 Axes>"
      ]
     },
     "metadata": {},
     "output_type": "display_data"
    }
   ],
   "source": [
    "if __name__ == \"__main__\":\n",
    "\tpop = ini_pop(nPop)[0]\n",
    "if __name__ == \"__main__\":\n",
    "    returned = ini_pop(nPop)\n",
    "    pop = returned[0]\n",
    "    #print(pop)\n",
    "    Area = returned[1]\n",
    "    ratioareatoflow = returned[2]\n",
    "    AspectRatios = returned[3]\n",
    "    GC = 1\n",
    "    QGA = 1\n",
    "    z_values = construct(pop, Area, ratioareatoflow, AspectRatios, GC, QGA)"
   ]
  },
  {
   "cell_type": "code",
   "execution_count": 85,
   "metadata": {},
   "outputs": [
    {
     "data": {
      "text/plain": [
       "100"
      ]
     },
     "execution_count": 85,
     "metadata": {},
     "output_type": "execute_result"
    }
   ],
   "source": [
    "len(z_values)"
   ]
  },
  {
   "cell_type": "code",
   "execution_count": 86,
   "metadata": {},
   "outputs": [
    {
     "data": {
      "text/plain": [
       "10"
      ]
     },
     "execution_count": 86,
     "metadata": {},
     "output_type": "execute_result"
    }
   ],
   "source": [
    "minpos = z_values.index(min(z_values))\n",
    "len(all_coordinates[minpos])"
   ]
  },
  {
   "cell_type": "code",
   "execution_count": 87,
   "metadata": {},
   "outputs": [],
   "source": [
    "def crossover(p1,p2):\n",
    "    parent = random.randint(0,1)\n",
    "    N_inherit = random.randint(0,9)\n",
    "    fixed = list(random.sample(range(1, 10), N_inherit))\n",
    "    child = []\n",
    "    index = list(np.array([0,1,2,3,4,5,6,7,8,9]))\n",
    "    ele_inserted = []\n",
    "    count = 0\n",
    "    if(parent == 0):\n",
    "        parent = p1\n",
    "        other = p2\n",
    "    else:\n",
    "        parent = p2\n",
    "        other = p1\n",
    "    for i in fixed:\n",
    "        ele_inserted.append(parent[i])\n",
    "    for i in range (0,10):\n",
    "        if(i in fixed):\n",
    "            child.append(parent[i])\n",
    "        else:\n",
    "            while(other[count] in ele_inserted):\n",
    "                count+=1\n",
    "            child.append(other[count])\n",
    "            count+=1\n",
    "    \n",
    "    return list(child)"
   ]
  },
  {
   "cell_type": "code",
   "execution_count": 149,
   "metadata": {},
   "outputs": [],
   "source": [
    "def algorithm1(alpha,nPop):\n",
    "    t = 0\n",
    "    returned = ini_pop(nPop)\n",
    "    pop = returned[0]\n",
    "    Area = returned[1]\n",
    "    ratioareatoflow = returned[2]\n",
    "    AspectRatios = returned[3]\n",
    "    GC = 1\n",
    "    QGA = 1\n",
    "    z_values = construct(pop, Area, ratioareatoflow, AspectRatios, GC, QGA)\n",
    "    no_change = 0\n",
    "    diff = 10000\n",
    "    while((no_change!=nPop) and (diff>0.05)):\n",
    "        child_pop = []\n",
    "        for i in range(0,nPop):\n",
    "            child_pop.append(pop[i])\n",
    "            p1 = pop[random.randint(0,9)]\n",
    "            p2 = pop[random.randint(0,9)]\n",
    "            d = crossover(p1,p2)\n",
    "            child_pop.append(d)\n",
    "        z_values = construct(child_pop,Area,ratioareatoflow, AspectRatios, GC, QGA)\n",
    "        indexed_values = list(enumerate(z_values)) \n",
    "        top_n = sorted(indexed_values, key=operator.itemgetter(1))[:nPop]\n",
    "        top_n = list(([i for i, v in top_n]))\n",
    "        count = 0\n",
    "        no_change = 0\n",
    "        sums = 0\n",
    "        for i in top_n:\n",
    "            if(child_pop[i] in pop):\n",
    "                no_change += 1\n",
    "            pop[count] = child_pop[i] \n",
    "            count+=1\n",
    "            sums += z_values[i]\n",
    "        diff = 100 * abs((sums/nPop)-z_values[top_n[0]])/(sums/nPop)\n",
    "    return pop[0],z_values[top_n[0]]"
   ]
  },
  {
   "cell_type": "code",
   "execution_count": 150,
   "metadata": {},
   "outputs": [
    {
     "data": {
      "image/png": "[encoded data removed]",
      "text/plain": [
       "<Figure size 432x288 with 1 Axes>"
      ]
     },
     "metadata": {},
     "output_type": "display_data"
    },
    {
     "data": {
      "image/png": "[encoded data removed]",
      "text/plain": [
       "<Figure size 432x288 with 1 Axes>"
      ]
     },
     "metadata": {},
     "output_type": "display_data"
    },
    {
     "data": {
      "image/png": "[encoded data removed]",
      "text/plain": [
       "<Figure size 432x288 with 1 Axes>"
      ]
     },
     "metadata": {},
     "output_type": "display_data"
    },
    {
     "data": {
      "image/png": "[encoded data removed]",
      "text/plain": [
       "<Figure size 432x288 with 1 Axes>"
      ]
     },
     "metadata": {},
     "output_type": "display_data"
    },
    {
     "data": {
      "image/png": "[encoded data removed]",
      "text/plain": [
       "<Figure size 432x288 with 1 Axes>"
      ]
     },
     "metadata": {},
     "output_type": "display_data"
    },
    {
     "data": {
      "image/png": "[encoded data removed]",
      "text/plain": [
       "<Figure size 432x288 with 1 Axes>"
      ]
     },
     "metadata": {},
     "output_type": "display_data"
    },
    {
     "data": {
      "image/png": "[encoded data removed]",
      "text/plain": [
       "<Figure size 432x288 with 1 Axes>"
      ]
     },
     "metadata": {},
     "output_type": "display_data"
    }
   ],
   "source": [
    "solution = algorithm1(alpha,nPop)"
   ]
  },
  {
   "cell_type": "code",
   "execution_count": 151,
   "metadata": {},
   "outputs": [
    {
     "data": {
      "text/plain": [
       "([2, 3, 7, 1, 10, 9, 8, 6, 4, 5], 240.10876908325724)"
      ]
     },
     "execution_count": 151,
     "metadata": {},
     "output_type": "execute_result"
    }
   ],
   "source": [
    "solution"
   ]
  },
  {
   "cell_type": "code",
   "execution_count": null,
   "metadata": {},
   "outputs": [],
   "source": []
  }
 ],
 "metadata": {
  "kernelspec": {
   "display_name": "Python 3",
   "language": "python",
   "name": "python3"
  },
  "language_info": {
   "codemirror_mode": {
    "name": "ipython",
    "version": 3
   },
   "file_extension": ".py",
   "mimetype": "text/x-python",
   "name": "python",
   "nbconvert_exporter": "python",
   "pygments_lexer": "ipython3",
   "version": "3.6.5"
  }
 },
 "nbformat": 4,
 "nbformat_minor": 2
}
